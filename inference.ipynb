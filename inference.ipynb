{
 "cells": [
  {
   "cell_type": "code",
   "execution_count": null,
   "metadata": {},
   "outputs": [],
   "source": [
    "import pandas as pd\n",
    "import pickle \n",
    "import numpy as np\n",
    "from sklearn.preprocessing import StandardScaler, LabelEncoder\n",
    "\n",
    "# csv_path = './dataset/CarPrice_Assignment.csv'\n",
    "# df = pd.read_csv(csv_path)"
   ]
  },
  {
   "cell_type": "code",
   "execution_count": null,
   "metadata": {},
   "outputs": [],
   "source": [
    "## \n",
    "\n",
    "# Create a DataFrame\n",
    "df = pd.DataFrame({\n",
    "    # 'car_ID': [1],\n",
    "    'symboling': [3],\n",
    "    'CarName': ['alfa-romero giulia'],\n",
    "    'fueltype': ['gas'],\n",
    "    'aspiration': ['std'],\n",
    "    'doornumber': ['two'],\n",
    "    'carbody': ['convertible'],\n",
    "    'drivewheel': ['rwd'],\n",
    "    'enginelocation': ['front'],\n",
    "    'wheelbase': [88.6],\n",
    "    'carlength': [168.8],\n",
    "    'carwidth': [64.1],\n",
    "    'carheight': [48.8],\n",
    "    'curbweight': [2548],\n",
    "    'enginetype': ['dohc'],\n",
    "    'cylindernumber': ['four'],\n",
    "    'enginesize': [130],\n",
    "    'fuelsystem': ['mpfi'],\n",
    "    'boreratio': [3.47],\n",
    "    'stroke': [2.68],\n",
    "    'compressionratio': [9.0],\n",
    "    'horsepower': [111],\n",
    "    'peakrpm': [5000],\n",
    "    'citympg': [21],\n",
    "    'highwaympg': [27],\n",
    "    'price': [13495.0]\n",
    "})"
   ]
  },
  {
   "cell_type": "code",
   "execution_count": null,
   "metadata": {},
   "outputs": [
    {
     "data": {
      "text/plain": [
       "array(['dohc'], dtype=object)"
      ]
     },
     "execution_count": 7,
     "metadata": {},
     "output_type": "execute_result"
    }
   ],
   "source": [
    "df['enginetype'].unique()\n",
    "\n",
    "## delete"
   ]
  },
  {
   "cell_type": "code",
   "execution_count": 8,
   "metadata": {},
   "outputs": [],
   "source": [
    "\n",
    "# Extract brand and model from CarName\n",
    "\n",
    "df['brand'] = df['CarName'].apply(lambda x: x.split(' ')[0])\n",
    "df['model'] = df['CarName'].apply(lambda x: ' '.join(x.split(' ')[1:]))\n",
    "# Define categorical and numerical columns\n",
    "categorical_columns = ['fueltype', 'aspiration', 'doornumber', 'carbody', 'drivewheel',\n",
    "                       'enginelocation', 'enginetype', 'cylindernumber', 'fuelsystem', 'brand', 'model']\n",
    "numerical_columns = ['wheelbase', 'carlength', 'carwidth', 'carheight', 'curbweight',\n",
    "                     'enginesize', 'boreratio', 'stroke', 'compressionratio', 'horsepower',\n",
    "                     'peakrpm', 'citympg', 'highwaympg']\n",
    "\n",
    "\n",
    "\n",
    "# Load the LabelEncoder object and transform the new data\n",
    "for column in categorical_columns:\n",
    "    with open(f'./models/label_encoder_{column}.pkl', 'rb') as f:\n",
    "        label_encoder = pickle.load(f)\n",
    "    df[column] = label_encoder.transform(df[column])\n",
    "\n",
    "\n",
    "# Feature engineering\n",
    "df['power_to_weight_ratio'] = df['horsepower'] / df['curbweight']\n",
    "for column in numerical_columns:\n",
    "    df[f'{column}_squared'] = df[column] ** 2\n",
    "df['log_enginesize'] = np.log(df['enginesize'] + 1)\n",
    "\n",
    "\n",
    "# Scale numerical columns\n",
    "scaler = StandardScaler()\n",
    "with open('./models/scaler.pkl', 'rb') as f:\n",
    "    scaler = pickle.load(f)\n",
    "    df[numerical_columns] = scaler.transform(df[numerical_columns])\n"
   ]
  },
  {
   "cell_type": "code",
   "execution_count": 9,
   "metadata": {},
   "outputs": [
    {
     "data": {
      "text/plain": [
       "(1, 42)"
      ]
     },
     "execution_count": 9,
     "metadata": {},
     "output_type": "execute_result"
    }
   ],
   "source": [
    "df.shape  # 43 "
   ]
  },
  {
   "cell_type": "code",
   "execution_count": 10,
   "metadata": {},
   "outputs": [
    {
     "name": "stdout",
     "output_type": "stream",
     "text": [
      "[14195.59861748]\n"
     ]
    }
   ],
   "source": [
    "\n",
    "X = df.drop(['price', 'CarName'], axis=1)  # Include the engineered features and CarName\n",
    "y = df['price']\n",
    "\n",
    "with open('./models/linear_reg.pkl', 'rb') as f:\n",
    "    model = pickle.load(f)\n",
    "\n",
    "y_pred = model.predict(X)\n",
    "\n",
    "print(y_pred)\n",
    "# Make a prediction\n",
    "# prediction = lm_rfe10.predict(x_data_scaled)\n",
    "\n",
    "# print(prediction)"
   ]
  },
  {
   "cell_type": "code",
   "execution_count": 11,
   "metadata": {},
   "outputs": [
    {
     "data": {
      "text/plain": [
       "0    13495.0\n",
       "Name: price, dtype: float64"
      ]
     },
     "execution_count": 11,
     "metadata": {},
     "output_type": "execute_result"
    }
   ],
   "source": [
    "y"
   ]
  },
  {
   "cell_type": "code",
   "execution_count": null,
   "metadata": {},
   "outputs": [],
   "source": []
  }
 ],
 "metadata": {
  "kernelspec": {
   "display_name": "Python 3",
   "language": "python",
   "name": "python3"
  },
  "language_info": {
   "codemirror_mode": {
    "name": "ipython",
    "version": 3
   },
   "file_extension": ".py",
   "mimetype": "text/x-python",
   "name": "python",
   "nbconvert_exporter": "python",
   "pygments_lexer": "ipython3",
   "version": "3.12.1"
  }
 },
 "nbformat": 4,
 "nbformat_minor": 2
}
